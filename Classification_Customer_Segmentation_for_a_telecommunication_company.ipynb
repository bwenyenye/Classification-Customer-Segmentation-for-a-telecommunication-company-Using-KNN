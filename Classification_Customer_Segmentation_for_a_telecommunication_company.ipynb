{
  "nbformat": 4,
  "nbformat_minor": 0,
  "metadata": {
    "colab": {
      "provenance": [],
      "collapsed_sections": []
    },
    "kernelspec": {
      "name": "python3",
      "display_name": "Python 3"
    },
    "language_info": {
      "name": "python"
    }
  },
  "cells": [
    {
      "cell_type": "markdown",
      "source": [
        "**Importing the Dependencies**"
      ],
      "metadata": {
        "id": "gDx3g4GgT7m_"
      }
    },
    {
      "cell_type": "code",
      "execution_count": 1,
      "metadata": {
        "id": "NcH8LklQTHEa"
      },
      "outputs": [],
      "source": [
        "import numpy as np\n",
        "import pandas as pd\n",
        "import matplotlib.pyplot as plt\n",
        "from sklearn import preprocessing\n",
        "%matplotlib inline"
      ]
    },
    {
      "cell_type": "markdown",
      "source": [
        "**Reading the Data**"
      ],
      "metadata": {
        "id": "4hGq5gF-Uc5Z"
      }
    },
    {
      "cell_type": "code",
      "source": [
        "# converting the data from a csv to a dataframe"
      ],
      "metadata": {
        "id": "FByejsh9Ufz-"
      },
      "execution_count": null,
      "outputs": []
    },
    {
      "cell_type": "code",
      "source": [
        "df = pd.read_csv('/content/teleCust1000t.csv')"
      ],
      "metadata": {
        "id": "hT-YdPtDUVWV"
      },
      "execution_count": 2,
      "outputs": []
    },
    {
      "cell_type": "code",
      "source": [
        "# displaying the first 5 rows\n",
        "df.head()"
      ],
      "metadata": {
        "colab": {
          "base_uri": "https://localhost:8080/",
          "height": 206
        },
        "id": "VIGE-pTqUq0q",
        "outputId": "94f1f431-a5f9-43ae-ef0c-a43212dacf2d"
      },
      "execution_count": 3,
      "outputs": [
        {
          "output_type": "execute_result",
          "data": {
            "text/plain": [
              "   region  tenure  age  marital  address  income  ed  employ  retire  gender  \\\n",
              "0       2      13   44        1        9    64.0   4       5     0.0       0   \n",
              "1       3      11   33        1        7   136.0   5       5     0.0       0   \n",
              "2       3      68   52        1       24   116.0   1      29     0.0       1   \n",
              "3       2      33   33        0       12    33.0   2       0     0.0       1   \n",
              "4       2      23   30        1        9    30.0   1       2     0.0       0   \n",
              "\n",
              "   reside  custcat  \n",
              "0       2        1  \n",
              "1       6        4  \n",
              "2       2        3  \n",
              "3       1        1  \n",
              "4       4        3  "
            ],
            "text/html": [
              "\n",
              "  <div id=\"df-16ef5095-f044-44d5-921e-0f96e12d2933\">\n",
              "    <div class=\"colab-df-container\">\n",
              "      <div>\n",
              "<style scoped>\n",
              "    .dataframe tbody tr th:only-of-type {\n",
              "        vertical-align: middle;\n",
              "    }\n",
              "\n",
              "    .dataframe tbody tr th {\n",
              "        vertical-align: top;\n",
              "    }\n",
              "\n",
              "    .dataframe thead th {\n",
              "        text-align: right;\n",
              "    }\n",
              "</style>\n",
              "<table border=\"1\" class=\"dataframe\">\n",
              "  <thead>\n",
              "    <tr style=\"text-align: right;\">\n",
              "      <th></th>\n",
              "      <th>region</th>\n",
              "      <th>tenure</th>\n",
              "      <th>age</th>\n",
              "      <th>marital</th>\n",
              "      <th>address</th>\n",
              "      <th>income</th>\n",
              "      <th>ed</th>\n",
              "      <th>employ</th>\n",
              "      <th>retire</th>\n",
              "      <th>gender</th>\n",
              "      <th>reside</th>\n",
              "      <th>custcat</th>\n",
              "    </tr>\n",
              "  </thead>\n",
              "  <tbody>\n",
              "    <tr>\n",
              "      <th>0</th>\n",
              "      <td>2</td>\n",
              "      <td>13</td>\n",
              "      <td>44</td>\n",
              "      <td>1</td>\n",
              "      <td>9</td>\n",
              "      <td>64.0</td>\n",
              "      <td>4</td>\n",
              "      <td>5</td>\n",
              "      <td>0.0</td>\n",
              "      <td>0</td>\n",
              "      <td>2</td>\n",
              "      <td>1</td>\n",
              "    </tr>\n",
              "    <tr>\n",
              "      <th>1</th>\n",
              "      <td>3</td>\n",
              "      <td>11</td>\n",
              "      <td>33</td>\n",
              "      <td>1</td>\n",
              "      <td>7</td>\n",
              "      <td>136.0</td>\n",
              "      <td>5</td>\n",
              "      <td>5</td>\n",
              "      <td>0.0</td>\n",
              "      <td>0</td>\n",
              "      <td>6</td>\n",
              "      <td>4</td>\n",
              "    </tr>\n",
              "    <tr>\n",
              "      <th>2</th>\n",
              "      <td>3</td>\n",
              "      <td>68</td>\n",
              "      <td>52</td>\n",
              "      <td>1</td>\n",
              "      <td>24</td>\n",
              "      <td>116.0</td>\n",
              "      <td>1</td>\n",
              "      <td>29</td>\n",
              "      <td>0.0</td>\n",
              "      <td>1</td>\n",
              "      <td>2</td>\n",
              "      <td>3</td>\n",
              "    </tr>\n",
              "    <tr>\n",
              "      <th>3</th>\n",
              "      <td>2</td>\n",
              "      <td>33</td>\n",
              "      <td>33</td>\n",
              "      <td>0</td>\n",
              "      <td>12</td>\n",
              "      <td>33.0</td>\n",
              "      <td>2</td>\n",
              "      <td>0</td>\n",
              "      <td>0.0</td>\n",
              "      <td>1</td>\n",
              "      <td>1</td>\n",
              "      <td>1</td>\n",
              "    </tr>\n",
              "    <tr>\n",
              "      <th>4</th>\n",
              "      <td>2</td>\n",
              "      <td>23</td>\n",
              "      <td>30</td>\n",
              "      <td>1</td>\n",
              "      <td>9</td>\n",
              "      <td>30.0</td>\n",
              "      <td>1</td>\n",
              "      <td>2</td>\n",
              "      <td>0.0</td>\n",
              "      <td>0</td>\n",
              "      <td>4</td>\n",
              "      <td>3</td>\n",
              "    </tr>\n",
              "  </tbody>\n",
              "</table>\n",
              "</div>\n",
              "      <button class=\"colab-df-convert\" onclick=\"convertToInteractive('df-16ef5095-f044-44d5-921e-0f96e12d2933')\"\n",
              "              title=\"Convert this dataframe to an interactive table.\"\n",
              "              style=\"display:none;\">\n",
              "        \n",
              "  <svg xmlns=\"http://www.w3.org/2000/svg\" height=\"24px\"viewBox=\"0 0 24 24\"\n",
              "       width=\"24px\">\n",
              "    <path d=\"M0 0h24v24H0V0z\" fill=\"none\"/>\n",
              "    <path d=\"M18.56 5.44l.94 2.06.94-2.06 2.06-.94-2.06-.94-.94-2.06-.94 2.06-2.06.94zm-11 1L8.5 8.5l.94-2.06 2.06-.94-2.06-.94L8.5 2.5l-.94 2.06-2.06.94zm10 10l.94 2.06.94-2.06 2.06-.94-2.06-.94-.94-2.06-.94 2.06-2.06.94z\"/><path d=\"M17.41 7.96l-1.37-1.37c-.4-.4-.92-.59-1.43-.59-.52 0-1.04.2-1.43.59L10.3 9.45l-7.72 7.72c-.78.78-.78 2.05 0 2.83L4 21.41c.39.39.9.59 1.41.59.51 0 1.02-.2 1.41-.59l7.78-7.78 2.81-2.81c.8-.78.8-2.07 0-2.86zM5.41 20L4 18.59l7.72-7.72 1.47 1.35L5.41 20z\"/>\n",
              "  </svg>\n",
              "      </button>\n",
              "      \n",
              "  <style>\n",
              "    .colab-df-container {\n",
              "      display:flex;\n",
              "      flex-wrap:wrap;\n",
              "      gap: 12px;\n",
              "    }\n",
              "\n",
              "    .colab-df-convert {\n",
              "      background-color: #E8F0FE;\n",
              "      border: none;\n",
              "      border-radius: 50%;\n",
              "      cursor: pointer;\n",
              "      display: none;\n",
              "      fill: #1967D2;\n",
              "      height: 32px;\n",
              "      padding: 0 0 0 0;\n",
              "      width: 32px;\n",
              "    }\n",
              "\n",
              "    .colab-df-convert:hover {\n",
              "      background-color: #E2EBFA;\n",
              "      box-shadow: 0px 1px 2px rgba(60, 64, 67, 0.3), 0px 1px 3px 1px rgba(60, 64, 67, 0.15);\n",
              "      fill: #174EA6;\n",
              "    }\n",
              "\n",
              "    [theme=dark] .colab-df-convert {\n",
              "      background-color: #3B4455;\n",
              "      fill: #D2E3FC;\n",
              "    }\n",
              "\n",
              "    [theme=dark] .colab-df-convert:hover {\n",
              "      background-color: #434B5C;\n",
              "      box-shadow: 0px 1px 3px 1px rgba(0, 0, 0, 0.15);\n",
              "      filter: drop-shadow(0px 1px 2px rgba(0, 0, 0, 0.3));\n",
              "      fill: #FFFFFF;\n",
              "    }\n",
              "  </style>\n",
              "\n",
              "      <script>\n",
              "        const buttonEl =\n",
              "          document.querySelector('#df-16ef5095-f044-44d5-921e-0f96e12d2933 button.colab-df-convert');\n",
              "        buttonEl.style.display =\n",
              "          google.colab.kernel.accessAllowed ? 'block' : 'none';\n",
              "\n",
              "        async function convertToInteractive(key) {\n",
              "          const element = document.querySelector('#df-16ef5095-f044-44d5-921e-0f96e12d2933');\n",
              "          const dataTable =\n",
              "            await google.colab.kernel.invokeFunction('convertToInteractive',\n",
              "                                                     [key], {});\n",
              "          if (!dataTable) return;\n",
              "\n",
              "          const docLinkHtml = 'Like what you see? Visit the ' +\n",
              "            '<a target=\"_blank\" href=https://colab.research.google.com/notebooks/data_table.ipynb>data table notebook</a>'\n",
              "            + ' to learn more about interactive tables.';\n",
              "          element.innerHTML = '';\n",
              "          dataTable['output_type'] = 'display_data';\n",
              "          await google.colab.output.renderOutput(dataTable, element);\n",
              "          const docLink = document.createElement('div');\n",
              "          docLink.innerHTML = docLinkHtml;\n",
              "          element.appendChild(docLink);\n",
              "        }\n",
              "      </script>\n",
              "    </div>\n",
              "  </div>\n",
              "  "
            ]
          },
          "metadata": {},
          "execution_count": 3
        }
      ]
    },
    {
      "cell_type": "code",
      "source": [
        "# checking the number of rows and columns\n",
        "df.shape"
      ],
      "metadata": {
        "colab": {
          "base_uri": "https://localhost:8080/"
        },
        "id": "0t3BVftiUxRo",
        "outputId": "58501e5c-4286-4903-b866-9d29d865d33e"
      },
      "execution_count": 4,
      "outputs": [
        {
          "output_type": "execute_result",
          "data": {
            "text/plain": [
              "(1000, 12)"
            ]
          },
          "metadata": {},
          "execution_count": 4
        }
      ]
    },
    {
      "cell_type": "code",
      "source": [
        "# getting some information about the data\n",
        "df.info()"
      ],
      "metadata": {
        "colab": {
          "base_uri": "https://localhost:8080/"
        },
        "id": "csTMFBYbVYGx",
        "outputId": "1322cf3e-4dfe-4142-9c65-0a5b6591fc81"
      },
      "execution_count": 5,
      "outputs": [
        {
          "output_type": "stream",
          "name": "stdout",
          "text": [
            "<class 'pandas.core.frame.DataFrame'>\n",
            "RangeIndex: 1000 entries, 0 to 999\n",
            "Data columns (total 12 columns):\n",
            " #   Column   Non-Null Count  Dtype  \n",
            "---  ------   --------------  -----  \n",
            " 0   region   1000 non-null   int64  \n",
            " 1   tenure   1000 non-null   int64  \n",
            " 2   age      1000 non-null   int64  \n",
            " 3   marital  1000 non-null   int64  \n",
            " 4   address  1000 non-null   int64  \n",
            " 5   income   1000 non-null   float64\n",
            " 6   ed       1000 non-null   int64  \n",
            " 7   employ   1000 non-null   int64  \n",
            " 8   retire   1000 non-null   float64\n",
            " 9   gender   1000 non-null   int64  \n",
            " 10  reside   1000 non-null   int64  \n",
            " 11  custcat  1000 non-null   int64  \n",
            "dtypes: float64(2), int64(10)\n",
            "memory usage: 93.9 KB\n"
          ]
        }
      ]
    },
    {
      "cell_type": "code",
      "source": [
        "# checking for null values\n",
        "df.isnull().sum()"
      ],
      "metadata": {
        "colab": {
          "base_uri": "https://localhost:8080/"
        },
        "id": "TXTX5l4aVl8l",
        "outputId": "f6f76190-79cb-4368-9faa-678f3ad5edd5"
      },
      "execution_count": 6,
      "outputs": [
        {
          "output_type": "execute_result",
          "data": {
            "text/plain": [
              "region     0\n",
              "tenure     0\n",
              "age        0\n",
              "marital    0\n",
              "address    0\n",
              "income     0\n",
              "ed         0\n",
              "employ     0\n",
              "retire     0\n",
              "gender     0\n",
              "reside     0\n",
              "custcat    0\n",
              "dtype: int64"
            ]
          },
          "metadata": {},
          "execution_count": 6
        }
      ]
    },
    {
      "cell_type": "markdown",
      "source": [
        "**Data Analysis**"
      ],
      "metadata": {
        "id": "wMLGJgzIV_za"
      }
    },
    {
      "cell_type": "code",
      "source": [
        "# getting some statistical measurea about the data\n",
        "df.describe()"
      ],
      "metadata": {
        "colab": {
          "base_uri": "https://localhost:8080/",
          "height": 300
        },
        "id": "oEgnYV4EWDUw",
        "outputId": "b8161d5f-10c4-45da-90a2-6df7efd6429c"
      },
      "execution_count": 7,
      "outputs": [
        {
          "output_type": "execute_result",
          "data": {
            "text/plain": [
              "          region       tenure          age      marital      address  \\\n",
              "count  1000.0000  1000.000000  1000.000000  1000.000000  1000.000000   \n",
              "mean      2.0220    35.526000    41.684000     0.495000    11.551000   \n",
              "std       0.8162    21.359812    12.558816     0.500225    10.086681   \n",
              "min       1.0000     1.000000    18.000000     0.000000     0.000000   \n",
              "25%       1.0000    17.000000    32.000000     0.000000     3.000000   \n",
              "50%       2.0000    34.000000    40.000000     0.000000     9.000000   \n",
              "75%       3.0000    54.000000    51.000000     1.000000    18.000000   \n",
              "max       3.0000    72.000000    77.000000     1.000000    55.000000   \n",
              "\n",
              "            income           ed       employ       retire       gender  \\\n",
              "count  1000.000000  1000.000000  1000.000000  1000.000000  1000.000000   \n",
              "mean     77.535000     2.671000    10.987000     0.047000     0.517000   \n",
              "std     107.044165     1.222397    10.082087     0.211745     0.499961   \n",
              "min       9.000000     1.000000     0.000000     0.000000     0.000000   \n",
              "25%      29.000000     2.000000     3.000000     0.000000     0.000000   \n",
              "50%      47.000000     3.000000     8.000000     0.000000     1.000000   \n",
              "75%      83.000000     4.000000    17.000000     0.000000     1.000000   \n",
              "max    1668.000000     5.000000    47.000000     1.000000     1.000000   \n",
              "\n",
              "            reside      custcat  \n",
              "count  1000.000000  1000.000000  \n",
              "mean      2.331000     2.487000  \n",
              "std       1.435793     1.120306  \n",
              "min       1.000000     1.000000  \n",
              "25%       1.000000     1.000000  \n",
              "50%       2.000000     3.000000  \n",
              "75%       3.000000     3.000000  \n",
              "max       8.000000     4.000000  "
            ],
            "text/html": [
              "\n",
              "  <div id=\"df-c6773302-37ec-45fb-a024-8fd8f9578d6a\">\n",
              "    <div class=\"colab-df-container\">\n",
              "      <div>\n",
              "<style scoped>\n",
              "    .dataframe tbody tr th:only-of-type {\n",
              "        vertical-align: middle;\n",
              "    }\n",
              "\n",
              "    .dataframe tbody tr th {\n",
              "        vertical-align: top;\n",
              "    }\n",
              "\n",
              "    .dataframe thead th {\n",
              "        text-align: right;\n",
              "    }\n",
              "</style>\n",
              "<table border=\"1\" class=\"dataframe\">\n",
              "  <thead>\n",
              "    <tr style=\"text-align: right;\">\n",
              "      <th></th>\n",
              "      <th>region</th>\n",
              "      <th>tenure</th>\n",
              "      <th>age</th>\n",
              "      <th>marital</th>\n",
              "      <th>address</th>\n",
              "      <th>income</th>\n",
              "      <th>ed</th>\n",
              "      <th>employ</th>\n",
              "      <th>retire</th>\n",
              "      <th>gender</th>\n",
              "      <th>reside</th>\n",
              "      <th>custcat</th>\n",
              "    </tr>\n",
              "  </thead>\n",
              "  <tbody>\n",
              "    <tr>\n",
              "      <th>count</th>\n",
              "      <td>1000.0000</td>\n",
              "      <td>1000.000000</td>\n",
              "      <td>1000.000000</td>\n",
              "      <td>1000.000000</td>\n",
              "      <td>1000.000000</td>\n",
              "      <td>1000.000000</td>\n",
              "      <td>1000.000000</td>\n",
              "      <td>1000.000000</td>\n",
              "      <td>1000.000000</td>\n",
              "      <td>1000.000000</td>\n",
              "      <td>1000.000000</td>\n",
              "      <td>1000.000000</td>\n",
              "    </tr>\n",
              "    <tr>\n",
              "      <th>mean</th>\n",
              "      <td>2.0220</td>\n",
              "      <td>35.526000</td>\n",
              "      <td>41.684000</td>\n",
              "      <td>0.495000</td>\n",
              "      <td>11.551000</td>\n",
              "      <td>77.535000</td>\n",
              "      <td>2.671000</td>\n",
              "      <td>10.987000</td>\n",
              "      <td>0.047000</td>\n",
              "      <td>0.517000</td>\n",
              "      <td>2.331000</td>\n",
              "      <td>2.487000</td>\n",
              "    </tr>\n",
              "    <tr>\n",
              "      <th>std</th>\n",
              "      <td>0.8162</td>\n",
              "      <td>21.359812</td>\n",
              "      <td>12.558816</td>\n",
              "      <td>0.500225</td>\n",
              "      <td>10.086681</td>\n",
              "      <td>107.044165</td>\n",
              "      <td>1.222397</td>\n",
              "      <td>10.082087</td>\n",
              "      <td>0.211745</td>\n",
              "      <td>0.499961</td>\n",
              "      <td>1.435793</td>\n",
              "      <td>1.120306</td>\n",
              "    </tr>\n",
              "    <tr>\n",
              "      <th>min</th>\n",
              "      <td>1.0000</td>\n",
              "      <td>1.000000</td>\n",
              "      <td>18.000000</td>\n",
              "      <td>0.000000</td>\n",
              "      <td>0.000000</td>\n",
              "      <td>9.000000</td>\n",
              "      <td>1.000000</td>\n",
              "      <td>0.000000</td>\n",
              "      <td>0.000000</td>\n",
              "      <td>0.000000</td>\n",
              "      <td>1.000000</td>\n",
              "      <td>1.000000</td>\n",
              "    </tr>\n",
              "    <tr>\n",
              "      <th>25%</th>\n",
              "      <td>1.0000</td>\n",
              "      <td>17.000000</td>\n",
              "      <td>32.000000</td>\n",
              "      <td>0.000000</td>\n",
              "      <td>3.000000</td>\n",
              "      <td>29.000000</td>\n",
              "      <td>2.000000</td>\n",
              "      <td>3.000000</td>\n",
              "      <td>0.000000</td>\n",
              "      <td>0.000000</td>\n",
              "      <td>1.000000</td>\n",
              "      <td>1.000000</td>\n",
              "    </tr>\n",
              "    <tr>\n",
              "      <th>50%</th>\n",
              "      <td>2.0000</td>\n",
              "      <td>34.000000</td>\n",
              "      <td>40.000000</td>\n",
              "      <td>0.000000</td>\n",
              "      <td>9.000000</td>\n",
              "      <td>47.000000</td>\n",
              "      <td>3.000000</td>\n",
              "      <td>8.000000</td>\n",
              "      <td>0.000000</td>\n",
              "      <td>1.000000</td>\n",
              "      <td>2.000000</td>\n",
              "      <td>3.000000</td>\n",
              "    </tr>\n",
              "    <tr>\n",
              "      <th>75%</th>\n",
              "      <td>3.0000</td>\n",
              "      <td>54.000000</td>\n",
              "      <td>51.000000</td>\n",
              "      <td>1.000000</td>\n",
              "      <td>18.000000</td>\n",
              "      <td>83.000000</td>\n",
              "      <td>4.000000</td>\n",
              "      <td>17.000000</td>\n",
              "      <td>0.000000</td>\n",
              "      <td>1.000000</td>\n",
              "      <td>3.000000</td>\n",
              "      <td>3.000000</td>\n",
              "    </tr>\n",
              "    <tr>\n",
              "      <th>max</th>\n",
              "      <td>3.0000</td>\n",
              "      <td>72.000000</td>\n",
              "      <td>77.000000</td>\n",
              "      <td>1.000000</td>\n",
              "      <td>55.000000</td>\n",
              "      <td>1668.000000</td>\n",
              "      <td>5.000000</td>\n",
              "      <td>47.000000</td>\n",
              "      <td>1.000000</td>\n",
              "      <td>1.000000</td>\n",
              "      <td>8.000000</td>\n",
              "      <td>4.000000</td>\n",
              "    </tr>\n",
              "  </tbody>\n",
              "</table>\n",
              "</div>\n",
              "      <button class=\"colab-df-convert\" onclick=\"convertToInteractive('df-c6773302-37ec-45fb-a024-8fd8f9578d6a')\"\n",
              "              title=\"Convert this dataframe to an interactive table.\"\n",
              "              style=\"display:none;\">\n",
              "        \n",
              "  <svg xmlns=\"http://www.w3.org/2000/svg\" height=\"24px\"viewBox=\"0 0 24 24\"\n",
              "       width=\"24px\">\n",
              "    <path d=\"M0 0h24v24H0V0z\" fill=\"none\"/>\n",
              "    <path d=\"M18.56 5.44l.94 2.06.94-2.06 2.06-.94-2.06-.94-.94-2.06-.94 2.06-2.06.94zm-11 1L8.5 8.5l.94-2.06 2.06-.94-2.06-.94L8.5 2.5l-.94 2.06-2.06.94zm10 10l.94 2.06.94-2.06 2.06-.94-2.06-.94-.94-2.06-.94 2.06-2.06.94z\"/><path d=\"M17.41 7.96l-1.37-1.37c-.4-.4-.92-.59-1.43-.59-.52 0-1.04.2-1.43.59L10.3 9.45l-7.72 7.72c-.78.78-.78 2.05 0 2.83L4 21.41c.39.39.9.59 1.41.59.51 0 1.02-.2 1.41-.59l7.78-7.78 2.81-2.81c.8-.78.8-2.07 0-2.86zM5.41 20L4 18.59l7.72-7.72 1.47 1.35L5.41 20z\"/>\n",
              "  </svg>\n",
              "      </button>\n",
              "      \n",
              "  <style>\n",
              "    .colab-df-container {\n",
              "      display:flex;\n",
              "      flex-wrap:wrap;\n",
              "      gap: 12px;\n",
              "    }\n",
              "\n",
              "    .colab-df-convert {\n",
              "      background-color: #E8F0FE;\n",
              "      border: none;\n",
              "      border-radius: 50%;\n",
              "      cursor: pointer;\n",
              "      display: none;\n",
              "      fill: #1967D2;\n",
              "      height: 32px;\n",
              "      padding: 0 0 0 0;\n",
              "      width: 32px;\n",
              "    }\n",
              "\n",
              "    .colab-df-convert:hover {\n",
              "      background-color: #E2EBFA;\n",
              "      box-shadow: 0px 1px 2px rgba(60, 64, 67, 0.3), 0px 1px 3px 1px rgba(60, 64, 67, 0.15);\n",
              "      fill: #174EA6;\n",
              "    }\n",
              "\n",
              "    [theme=dark] .colab-df-convert {\n",
              "      background-color: #3B4455;\n",
              "      fill: #D2E3FC;\n",
              "    }\n",
              "\n",
              "    [theme=dark] .colab-df-convert:hover {\n",
              "      background-color: #434B5C;\n",
              "      box-shadow: 0px 1px 3px 1px rgba(0, 0, 0, 0.15);\n",
              "      filter: drop-shadow(0px 1px 2px rgba(0, 0, 0, 0.3));\n",
              "      fill: #FFFFFF;\n",
              "    }\n",
              "  </style>\n",
              "\n",
              "      <script>\n",
              "        const buttonEl =\n",
              "          document.querySelector('#df-c6773302-37ec-45fb-a024-8fd8f9578d6a button.colab-df-convert');\n",
              "        buttonEl.style.display =\n",
              "          google.colab.kernel.accessAllowed ? 'block' : 'none';\n",
              "\n",
              "        async function convertToInteractive(key) {\n",
              "          const element = document.querySelector('#df-c6773302-37ec-45fb-a024-8fd8f9578d6a');\n",
              "          const dataTable =\n",
              "            await google.colab.kernel.invokeFunction('convertToInteractive',\n",
              "                                                     [key], {});\n",
              "          if (!dataTable) return;\n",
              "\n",
              "          const docLinkHtml = 'Like what you see? Visit the ' +\n",
              "            '<a target=\"_blank\" href=https://colab.research.google.com/notebooks/data_table.ipynb>data table notebook</a>'\n",
              "            + ' to learn more about interactive tables.';\n",
              "          element.innerHTML = '';\n",
              "          dataTable['output_type'] = 'display_data';\n",
              "          await google.colab.output.renderOutput(dataTable, element);\n",
              "          const docLink = document.createElement('div');\n",
              "          docLink.innerHTML = docLinkHtml;\n",
              "          element.appendChild(docLink);\n",
              "        }\n",
              "      </script>\n",
              "    </div>\n",
              "  </div>\n",
              "  "
            ]
          },
          "metadata": {},
          "execution_count": 7
        }
      ]
    },
    {
      "cell_type": "markdown",
      "source": [
        "**How many of each class is in our dataset**"
      ],
      "metadata": {
        "id": "9XZXjLcaW9o2"
      }
    },
    {
      "cell_type": "code",
      "source": [
        "df['custcat'].value_counts()"
      ],
      "metadata": {
        "colab": {
          "base_uri": "https://localhost:8080/"
        },
        "id": "0MOg0yKvXIqy",
        "outputId": "c1eaade9-d2d4-48fa-f124-f00babbf3feb"
      },
      "execution_count": 8,
      "outputs": [
        {
          "output_type": "execute_result",
          "data": {
            "text/plain": [
              "3    281\n",
              "1    266\n",
              "4    236\n",
              "2    217\n",
              "Name: custcat, dtype: int64"
            ]
          },
          "metadata": {},
          "execution_count": 8
        }
      ]
    },
    {
      "cell_type": "markdown",
      "source": [
        "#### 281 Plus Service, 266 Basic-service, 236 Total Service, and 217 E-Service customers\n"
      ],
      "metadata": {
        "id": "eNRwa9eAXdPe"
      }
    },
    {
      "cell_type": "markdown",
      "source": [
        "**Data visualisation**"
      ],
      "metadata": {
        "id": "FXCE1sKzXiGf"
      }
    },
    {
      "cell_type": "code",
      "source": [
        "df.hist(column='income', bins=50)"
      ],
      "metadata": {
        "colab": {
          "base_uri": "https://localhost:8080/",
          "height": 316
        },
        "id": "HG0HOLXDV1zc",
        "outputId": "cdcd3e1a-9955-4b26-e0b7-c13a11a2be6b"
      },
      "execution_count": 9,
      "outputs": [
        {
          "output_type": "execute_result",
          "data": {
            "text/plain": [
              "array([[<matplotlib.axes._subplots.AxesSubplot object at 0x7f4aa94bccd0>]],\n",
              "      dtype=object)"
            ]
          },
          "metadata": {},
          "execution_count": 9
        },
        {
          "output_type": "display_data",
          "data": {
            "text/plain": [
              "<Figure size 432x288 with 1 Axes>"
            ],
            "image/png": "[encoded data removed]"
          },
          "metadata": {
            "needs_background": "light"
          }
        }
      ]
    },
    {
      "cell_type": "markdown",
      "source": [
        "**Feature set**"
      ],
      "metadata": {
        "id": "YVmbdnptXyLW"
      }
    },
    {
      "cell_type": "code",
      "source": [
        "df.columns"
      ],
      "metadata": {
        "colab": {
          "base_uri": "https://localhost:8080/"
        },
        "id": "4aveG0R0X09I",
        "outputId": "8d62c31a-7985-46c9-8119-7fc6d609ae11"
      },
      "execution_count": 10,
      "outputs": [
        {
          "output_type": "execute_result",
          "data": {
            "text/plain": [
              "Index(['region', 'tenure', 'age', 'marital', 'address', 'income', 'ed',\n",
              "       'employ', 'retire', 'gender', 'reside', 'custcat'],\n",
              "      dtype='object')"
            ]
          },
          "metadata": {},
          "execution_count": 10
        }
      ]
    },
    {
      "cell_type": "markdown",
      "source": [
        "To use scikit-learn library, we have to convert the Pandas data frame to a Numpy array"
      ],
      "metadata": {
        "id": "bADz6pRBX9gu"
      }
    },
    {
      "cell_type": "code",
      "source": [
        "X = df[['region', 'tenure','age', 'marital', 'address', 'income', 'ed', 'employ','retire', 'gender', 'reside']] .values  #.astype(float)\n",
        "X[0:5]"
      ],
      "metadata": {
        "colab": {
          "base_uri": "https://localhost:8080/"
        },
        "id": "a1el9c8SXogn",
        "outputId": "52b0d8d3-977c-4c78-b295-3f11b3c1f7ec"
      },
      "execution_count": 11,
      "outputs": [
        {
          "output_type": "execute_result",
          "data": {
            "text/plain": [
              "array([[  2.,  13.,  44.,   1.,   9.,  64.,   4.,   5.,   0.,   0.,   2.],\n",
              "       [  3.,  11.,  33.,   1.,   7., 136.,   5.,   5.,   0.,   0.,   6.],\n",
              "       [  3.,  68.,  52.,   1.,  24., 116.,   1.,  29.,   0.,   1.,   2.],\n",
              "       [  2.,  33.,  33.,   0.,  12.,  33.,   2.,   0.,   0.,   1.,   1.],\n",
              "       [  2.,  23.,  30.,   1.,   9.,  30.,   1.,   2.,   0.,   0.,   4.]])"
            ]
          },
          "metadata": {},
          "execution_count": 11
        }
      ]
    },
    {
      "cell_type": "markdown",
      "source": [
        "What are our labels?"
      ],
      "metadata": {
        "id": "GSXLsdf9YK4b"
      }
    },
    {
      "cell_type": "code",
      "source": [
        "y = df['custcat'].values\n",
        "y[0:5]"
      ],
      "metadata": {
        "colab": {
          "base_uri": "https://localhost:8080/"
        },
        "id": "Uf8p468aYCqD",
        "outputId": "7549cb7e-4949-4317-835e-0d854081759a"
      },
      "execution_count": 12,
      "outputs": [
        {
          "output_type": "execute_result",
          "data": {
            "text/plain": [
              "array([1, 4, 3, 1, 3])"
            ]
          },
          "metadata": {},
          "execution_count": 12
        }
      ]
    },
    {
      "cell_type": "markdown",
      "source": [
        "**Normalise data**\n",
        "\n",
        "Data Standardization gives the data zero mean and unit variance, it is good practice, especially for algorithms such as KNN which is based on the distance of data points:"
      ],
      "metadata": {
        "id": "_QT6C8nDYVQn"
      }
    },
    {
      "cell_type": "code",
      "source": [
        "X = preprocessing.StandardScaler().fit(X).transform(X.astype(float))\n",
        "X[0:5]"
      ],
      "metadata": {
        "colab": {
          "base_uri": "https://localhost:8080/"
        },
        "id": "8TVKzJjXYL5n",
        "outputId": "c0a09be2-507a-4558-eee0-4b7847b8b13d"
      },
      "execution_count": 13,
      "outputs": [
        {
          "output_type": "execute_result",
          "data": {
            "text/plain": [
              "array([[-0.02696767, -1.055125  ,  0.18450456,  1.0100505 , -0.25303431,\n",
              "        -0.12650641,  1.0877526 , -0.5941226 , -0.22207644, -1.03459817,\n",
              "        -0.23065004],\n",
              "       [ 1.19883553, -1.14880563, -0.69181243,  1.0100505 , -0.4514148 ,\n",
              "         0.54644972,  1.9062271 , -0.5941226 , -0.22207644, -1.03459817,\n",
              "         2.55666158],\n",
              "       [ 1.19883553,  1.52109247,  0.82182601,  1.0100505 ,  1.23481934,\n",
              "         0.35951747, -1.36767088,  1.78752803, -0.22207644,  0.96655883,\n",
              "        -0.23065004],\n",
              "       [-0.02696767, -0.11831864, -0.69181243, -0.9900495 ,  0.04453642,\n",
              "        -0.41625141, -0.54919639, -1.09029981, -0.22207644,  0.96655883,\n",
              "        -0.92747794],\n",
              "       [-0.02696767, -0.58672182, -0.93080797,  1.0100505 , -0.25303431,\n",
              "        -0.44429125, -1.36767088, -0.89182893, -0.22207644, -1.03459817,\n",
              "         1.16300577]])"
            ]
          },
          "metadata": {},
          "execution_count": 13
        }
      ]
    },
    {
      "cell_type": "markdown",
      "source": [
        "**Splitting our data into training data and tesing data**"
      ],
      "metadata": {
        "id": "SQk4Axm6YmKT"
      }
    },
    {
      "cell_type": "code",
      "source": [
        "from sklearn.model_selection import train_test_split\n",
        "X_train, X_test, y_train, y_test = train_test_split( X, y, test_size=0.2, random_state=4)\n",
        "print ('Train set:', X_train.shape,  y_train.shape)\n",
        "print ('Test set:', X_test.shape,  y_test.shape)"
      ],
      "metadata": {
        "colab": {
          "base_uri": "https://localhost:8080/"
        },
        "id": "rmC5xYk8Yfwo",
        "outputId": "b3991488-347c-4d0d-f09d-a4ddf19fdd96"
      },
      "execution_count": 14,
      "outputs": [
        {
          "output_type": "stream",
          "name": "stdout",
          "text": [
            "Train set: (800, 11) (800,)\n",
            "Test set: (200, 11) (200,)\n"
          ]
        }
      ]
    },
    {
      "cell_type": "markdown",
      "source": [
        "**Classification**\n",
        "\n",
        "**K Nearest Neighbour(KNN)**"
      ],
      "metadata": {
        "id": "HSAw7ZE7Y-Q8"
      }
    },
    {
      "cell_type": "code",
      "source": [
        "# importing library to implement K Nearest Neighbour\n",
        "from sklearn.neighbors import KNeighborsClassifier"
      ],
      "metadata": {
        "id": "kvGl9EnmY1yt"
      },
      "execution_count": 15,
      "outputs": []
    },
    {
      "cell_type": "markdown",
      "source": [
        "**Model Training**"
      ],
      "metadata": {
        "id": "O-uvQo-yZgWr"
      }
    },
    {
      "cell_type": "code",
      "source": [
        "# training our model with K=4\n",
        "k = 4\n",
        "#Train Model and Predict  \n",
        "neigh = KNeighborsClassifier(n_neighbors = k).fit(X_train,y_train)\n",
        "neigh"
      ],
      "metadata": {
        "colab": {
          "base_uri": "https://localhost:8080/"
        },
        "id": "BAD2QrRhZj-5",
        "outputId": "e5b3f8b4-4472-4d06-adeb-3939c5cfaf76"
      },
      "execution_count": 16,
      "outputs": [
        {
          "output_type": "execute_result",
          "data": {
            "text/plain": [
              "KNeighborsClassifier(n_neighbors=4)"
            ]
          },
          "metadata": {},
          "execution_count": 16
        }
      ]
    },
    {
      "cell_type": "markdown",
      "source": [
        "**Using the model for prediction**"
      ],
      "metadata": {
        "id": "Q4Dq4dlxZyTk"
      }
    },
    {
      "cell_type": "code",
      "source": [
        "yhat = neigh.predict(X_test)\n",
        "yhat[0:5]"
      ],
      "metadata": {
        "colab": {
          "base_uri": "https://localhost:8080/"
        },
        "id": "pPS_yR6_Z3Fs",
        "outputId": "93cb7ec4-f369-4deb-ca97-cbc9b5465d86"
      },
      "execution_count": 17,
      "outputs": [
        {
          "output_type": "execute_result",
          "data": {
            "text/plain": [
              "array([1, 1, 3, 2, 4])"
            ]
          },
          "metadata": {},
          "execution_count": 17
        }
      ]
    },
    {
      "cell_type": "markdown",
      "source": [
        "**Evaluation**"
      ],
      "metadata": {
        "id": "ZiIfEhG2Z-O1"
      }
    },
    {
      "cell_type": "code",
      "source": [
        "from sklearn import metrics\n",
        "print(\"Train set Accuracy: \", metrics.accuracy_score(y_train, neigh.predict(X_train)))\n",
        "print(\"Test set Accuracy: \", metrics.accuracy_score(y_test, yhat))"
      ],
      "metadata": {
        "colab": {
          "base_uri": "https://localhost:8080/"
        },
        "id": "sL6_q0ArZb3s",
        "outputId": "7d2f8230-41ff-4d78-f3f0-d998947c298a"
      },
      "execution_count": 18,
      "outputs": [
        {
          "output_type": "stream",
          "name": "stdout",
          "text": [
            "Train set Accuracy:  0.5475\n",
            "Test set Accuracy:  0.32\n"
          ]
        }
      ]
    },
    {
      "cell_type": "code",
      "source": [],
      "metadata": {
        "id": "Lc5ZJT3_aH7S"
      },
      "execution_count": null,
      "outputs": []
    }
  ]
}